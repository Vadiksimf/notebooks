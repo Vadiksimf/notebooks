{
 "cells": [
  {
   "cell_type": "code",
   "execution_count": 1,
   "id": "4b3b1071",
   "metadata": {},
   "outputs": [
    {
     "name": "stdout",
     "output_type": "stream",
     "text": [
      "./xray_dataset_covid19/train/NORMAL/IM-0059-0001.jpeg\n",
      "./xray_dataset_covid19/train/NORMAL/IM-0073-0001.jpeg\n",
      "./xray_dataset_covid19/train/NORMAL/IM-0077-0001.jpeg\n",
      "./xray_dataset_covid19/train/NORMAL/IM-0101-0001.jpeg\n",
      "./xray_dataset_covid19/train/NORMAL/IM-0099-0001.jpeg\n",
      "./xray_dataset_covid19/train/NORMAL/IM-0079-0001.jpeg\n",
      "./xray_dataset_covid19/train/NORMAL/IM-0043-0001.jpeg\n",
      "./xray_dataset_covid19/train/NORMAL/NORMAL2-IM-0013-0001.jpeg\n",
      "./xray_dataset_covid19/train/NORMAL/IM-0007-0001.jpeg\n",
      "./xray_dataset_covid19/train/NORMAL/IM-0103-0001.jpeg\n",
      "./xray_dataset_covid19/train/NORMAL/IM-0005-0001.jpeg\n",
      "./xray_dataset_covid19/train/NORMAL/IM-0039-0001.jpeg\n",
      "./xray_dataset_covid19/train/NORMAL/IM-0030-0001.jpeg\n",
      "./xray_dataset_covid19/train/NORMAL/NORMAL2-IM-0030-0001.jpeg\n",
      "./xray_dataset_covid19/train/NORMAL/IM-0085-0001.jpeg\n",
      "./xray_dataset_covid19/train/NORMAL/NORMAL2-IM-0028-0001.jpeg\n",
      "./xray_dataset_covid19/train/NORMAL/IM-0081-0001.jpeg\n",
      "./xray_dataset_covid19/train/NORMAL/IM-0102-0001.jpeg\n",
      "./xray_dataset_covid19/train/NORMAL/IM-0049-0001.jpeg\n",
      "./xray_dataset_covid19/train/NORMAL/IM-0110-0001.jpeg\n",
      "./xray_dataset_covid19/train/NORMAL/IM-0006-0001.jpeg\n",
      "./xray_dataset_covid19/train/NORMAL/IM-0017-0001.jpeg\n",
      "./xray_dataset_covid19/train/NORMAL/IM-0015-0001.jpeg\n",
      "./xray_dataset_covid19/train/NORMAL/IM-0013-0001.jpeg\n",
      "./xray_dataset_covid19/train/NORMAL/IM-0022-0001.jpeg\n",
      "./xray_dataset_covid19/train/NORMAL/NORMAL2-IM-0029-0001.jpeg\n",
      "./xray_dataset_covid19/train/NORMAL/NORMAL2-IM-0007-0001.jpeg\n",
      "./xray_dataset_covid19/train/NORMAL/IM-0001-0001.jpeg\n",
      "./xray_dataset_covid19/train/NORMAL/IM-0019-0001.jpeg\n",
      "./xray_dataset_covid19/train/NORMAL/IM-0095-0001.jpeg\n",
      "./xray_dataset_covid19/train/NORMAL/IM-0087-0001.jpeg\n",
      "./xray_dataset_covid19/train/NORMAL/IM-0010-0001.jpeg\n",
      "./xray_dataset_covid19/train/NORMAL/IM-0063-0001.jpeg\n",
      "./xray_dataset_covid19/train/NORMAL/IM-0084-0001.jpeg\n",
      "./xray_dataset_covid19/train/NORMAL/IM-0036-0001.jpeg\n",
      "./xray_dataset_covid19/train/NORMAL/IM-0029-0001.jpeg\n",
      "./xray_dataset_covid19/train/NORMAL/IM-0016-0001.jpeg\n",
      "./xray_dataset_covid19/train/NORMAL/IM-0075-0001.jpeg\n",
      "./xray_dataset_covid19/train/NORMAL/IM-0037-0001.jpeg\n",
      "./xray_dataset_covid19/train/NORMAL/IM-0033-0001.jpeg\n",
      "./xray_dataset_covid19/train/NORMAL/IM-0023-0001.jpeg\n",
      "./xray_dataset_covid19/train/NORMAL/IM-0061-0001.jpeg\n",
      "./xray_dataset_covid19/train/NORMAL/IM-0097-0001.jpeg\n",
      "./xray_dataset_covid19/train/NORMAL/IM-0107-0001.jpeg\n",
      "./xray_dataset_covid19/train/NORMAL/IM-0111-0001.jpeg\n",
      "./xray_dataset_covid19/train/NORMAL/IM-0069-0001.jpeg\n",
      "./xray_dataset_covid19/train/NORMAL/IM-0011-0001-0001.jpeg\n",
      "./xray_dataset_covid19/train/NORMAL/IM-0033-0001-0001.jpeg\n",
      "./xray_dataset_covid19/train/NORMAL/IM-0035-0001.jpeg\n",
      "./xray_dataset_covid19/train/NORMAL/IM-0033-0001-0002.jpeg\n",
      "./xray_dataset_covid19/train/NORMAL/IM-0021-0001.jpeg\n",
      "./xray_dataset_covid19/train/NORMAL/IM-0011-0001-0002.jpeg\n",
      "./xray_dataset_covid19/train/NORMAL/IM-0083-0001.jpeg\n",
      "./xray_dataset_covid19/train/NORMAL/IM-0031-0001.jpeg\n",
      "./xray_dataset_covid19/train/NORMAL/IM-0025-0001.jpeg\n",
      "./xray_dataset_covid19/train/NORMAL/IM-0089-0001.jpeg\n",
      "./xray_dataset_covid19/train/NORMAL/IM-0086-0001.jpeg\n",
      "./xray_dataset_covid19/train/NORMAL/IM-0091-0001.jpeg\n",
      "./xray_dataset_covid19/train/NORMAL/NORMAL2-IM-0027-0001.jpeg\n",
      "./xray_dataset_covid19/train/NORMAL/IM-0011-0001.jpeg\n",
      "./xray_dataset_covid19/train/NORMAL/NORMAL2-IM-0033-0001.jpeg\n",
      "./xray_dataset_covid19/train/NORMAL/IM-0071-0001.jpeg\n",
      "./xray_dataset_covid19/train/NORMAL/NORMAL2-IM-0023-0001.jpeg\n",
      "./xray_dataset_covid19/train/NORMAL/IM-0041-0001.jpeg\n",
      "./xray_dataset_covid19/train/NORMAL/IM-0027-0001.jpeg\n",
      "./xray_dataset_covid19/train/NORMAL/IM-0070-0001.jpeg\n",
      "./xray_dataset_covid19/train/NORMAL/IM-0046-0001.jpeg\n",
      "./xray_dataset_covid19/train/NORMAL/IM-0045-0001.jpeg\n",
      "./xray_dataset_covid19/train/NORMAL/IM-0003-0001.jpeg\n",
      "./xray_dataset_covid19/train/NORMAL/IM-0093-0001.jpeg\n",
      "./xray_dataset_covid19/train/NORMAL/IM-0050-0001.jpeg\n",
      "./xray_dataset_covid19/train/NORMAL/IM-0009-0001.jpeg\n",
      "./xray_dataset_covid19/train/NORMAL/NORMAL2-IM-0012-0001.jpeg\n",
      "./xray_dataset_covid19/train/NORMAL/IM-0105-0001.jpeg\n",
      "./xray_dataset_covid19/train/PNEUMONIA/nejmoa2001191_f4.jpeg\n",
      "./xray_dataset_covid19/train/PNEUMONIA/41591_2020_819_Fig1_HTML.webp-day10.png\n",
      "./xray_dataset_covid19/train/PNEUMONIA/446B2CB6-B572-40AB-B01F-1910CA07086A.jpeg\n",
      "./xray_dataset_covid19/train/PNEUMONIA/7C69C012-7479-493F-8722-ABC29C60A2DD.jpeg\n",
      "./xray_dataset_covid19/train/PNEUMONIA/jkms-35-e79-g001-l-c.jpg\n",
      "./xray_dataset_covid19/train/PNEUMONIA/MERS-CoV-1-s2.0-S0378603X1500248X-gr4e.jpg\n",
      "./xray_dataset_covid19/train/PNEUMONIA/5931B64A-7B97-485D-BE60-3F1EA76BC4F0.jpeg\n",
      "./xray_dataset_covid19/train/PNEUMONIA/2C26F453-AF3B-4517-BB9E-802CF2179543.jpeg\n",
      "./xray_dataset_covid19/train/PNEUMONIA/all14238-fig-0001-m-c.jpg\n",
      "./xray_dataset_covid19/train/PNEUMONIA/kjr-21-e24-g003-l-a.jpg\n",
      "./xray_dataset_covid19/train/PNEUMONIA/5e6dd879fde9502400e58b2f.jpeg\n",
      "./xray_dataset_covid19/train/PNEUMONIA/nejmoa2001191_f3-PA.jpeg\n",
      "./xray_dataset_covid19/train/PNEUMONIA/1-s2.0-S1684118220300608-main.pdf-001.jpg\n",
      "./xray_dataset_covid19/train/PNEUMONIA/1-s2.0-S1684118220300682-main.pdf-003-b2.png\n",
      "./xray_dataset_covid19/train/PNEUMONIA/23E99E2E-447C-46E5-8EB2-D35D12473C39.png\n",
      "./xray_dataset_covid19/train/PNEUMONIA/1312A392-67A3-4EBF-9319-810CF6DA5EF6.jpeg\n",
      "./xray_dataset_covid19/train/PNEUMONIA/nCoV-Snohomish-20382862_web1_M1-Lungs-EDH-200201-640x300@2x.jpg\n",
      "./xray_dataset_covid19/train/PNEUMONIA/93FE0BB1-022D-4F24-9727-987A07975FFB.jpeg\n",
      "./xray_dataset_covid19/train/PNEUMONIA/auntminnie-d-2020_01_28_23_51_6665_2020_01_28_Vietnam_coronavirus.jpeg\n",
      "./xray_dataset_covid19/train/PNEUMONIA/1B734A89-A1BF-49A8-A1D3-66FAFA4FAC5D.jpeg\n",
      "./xray_dataset_covid19/train/PNEUMONIA/01E392EE-69F9-4E33-BFCE-E5C968654078.jpeg\n",
      "./xray_dataset_covid19/train/PNEUMONIA/covid-19-pneumonia-15-PA.jpg\n",
      "./xray_dataset_covid19/train/PNEUMONIA/6CB4EFC6-68FA-4CD5-940C-BEFA8DAFE9A7.jpeg\n",
      "./xray_dataset_covid19/train/PNEUMONIA/auntminnie-c-2020_01_28_23_51_6665_2020_01_28_Vietnam_coronavirus.jpeg\n",
      "./xray_dataset_covid19/train/PNEUMONIA/jkms-35-e79-g001-l-b.jpg\n",
      "./xray_dataset_covid19/train/PNEUMONIA/covid-19-pneumonia-12.jpg\n",
      "./xray_dataset_covid19/train/PNEUMONIA/F63AB6CE-1968-4154-A70F-913AF154F53D.jpeg\n",
      "./xray_dataset_covid19/train/PNEUMONIA/jkms-35-e79-g001-l-a.jpg\n",
      "./xray_dataset_covid19/train/PNEUMONIA/31BA3780-2323-493F-8AED-62081B9C383B.jpeg\n",
      "./xray_dataset_covid19/train/PNEUMONIA/85E52EB3-56E9-4D67-82DA-DEA247C82886.jpeg\n",
      "./xray_dataset_covid19/train/PNEUMONIA/nejmoa2001191_f1-PA.jpeg\n",
      "./xray_dataset_covid19/train/PNEUMONIA/1-s2.0-S1684118220300682-main.pdf-002-a2.png\n",
      "./xray_dataset_covid19/train/PNEUMONIA/9C34AF49-E589-44D5-92D3-168B3B04E4A6.jpeg\n",
      "./xray_dataset_covid19/train/PNEUMONIA/1-s2.0-S1684118220300682-main.pdf-002-a1.png\n",
      "./xray_dataset_covid19/train/PNEUMONIA/1-s2.0-S1684118220300682-main.pdf-003-b1.png\n",
      "./xray_dataset_covid19/train/PNEUMONIA/7D2CF6CE-F529-4470-8356-D33FFAF98600.jpeg\n",
      "./xray_dataset_covid19/train/PNEUMONIA/acute-respiratory-distress-syndrome-ards-1.jpg\n",
      "./xray_dataset_covid19/train/PNEUMONIA/39EE8E69-5801-48DE-B6E3-BE7D1BCF3092.jpeg\n",
      "./xray_dataset_covid19/train/PNEUMONIA/41591_2020_819_Fig1_HTML.webp-day5.png\n",
      "./xray_dataset_covid19/train/PNEUMONIA/nejmoa2001191_f5-PA.jpeg\n",
      "./xray_dataset_covid19/train/PNEUMONIA/ards-secondary-to-tiger-snake-bite.png\n",
      "./xray_dataset_covid19/train/PNEUMONIA/auntminnie-b-2020_01_28_23_51_6665_2020_01_28_Vietnam_coronavirus.jpeg\n",
      "./xray_dataset_covid19/train/PNEUMONIA/all14238-fig-0001-m-b.jpg\n",
      "./xray_dataset_covid19/train/PNEUMONIA/7EF28E12-F628-4BEC-A8C5-E6277C2E4F60.png\n",
      "./xray_dataset_covid19/train/PNEUMONIA/F051E018-DAD1-4506-AD43-BE4CA29E960B.jpeg\n",
      "./xray_dataset_covid19/train/PNEUMONIA/7AF6C1AF-D249-4BD2-8C26-449304105D03.jpeg\n",
      "./xray_dataset_covid19/train/PNEUMONIA/covid-19-pneumonia-7-PA.jpg\n",
      "./xray_dataset_covid19/train/PNEUMONIA/B59DD164-51D5-40DF-A926-6A42DD52EBE8.jpeg\n",
      "./xray_dataset_covid19/train/PNEUMONIA/1-s2.0-S1684118220300608-main.pdf-002.jpg\n",
      "./xray_dataset_covid19/train/PNEUMONIA/auntminnie-2020_01_31_20_24_2322_2020_01_31_x-ray_coronavirus_US.jpg\n",
      "./xray_dataset_covid19/train/PNEUMONIA/nejmc2001573_f1b.jpeg\n",
      "./xray_dataset_covid19/train/PNEUMONIA/kjr-21-e24-g001-l-a.jpg\n",
      "./xray_dataset_covid19/train/PNEUMONIA/80446565-E090-4187-A031-9D3CEAA586C8.jpeg\n",
      "./xray_dataset_covid19/train/PNEUMONIA/ryct.2020200028.fig1a.jpeg\n",
      "./xray_dataset_covid19/train/PNEUMONIA/E63574A7-4188-4C8D-8D17-9D67A18A1AFA.jpeg\n",
      "./xray_dataset_covid19/train/PNEUMONIA/171CB377-62FF-4B76-906C-F3787A01CB2E.jpeg\n",
      "./xray_dataset_covid19/train/PNEUMONIA/2C10A413-AABE-4807-8CCE-6A2025594067.jpeg\n",
      "./xray_dataset_covid19/train/PNEUMONIA/8FDE8DBA-CFBD-4B4C-B1A4-6F36A93B7E87.jpeg\n",
      "./xray_dataset_covid19/train/PNEUMONIA/C6EA0BE5-B01E-4113-B194-18D956675E25.jpeg\n",
      "./xray_dataset_covid19/train/PNEUMONIA/pneumocystis-pneumonia-2-PA.png\n",
      "./xray_dataset_covid19/train/PNEUMONIA/1-s2.0-S0140673620303706-fx1_lrg.jpg\n",
      "./xray_dataset_covid19/train/PNEUMONIA/nCoV-radiol.2020200269.fig1-day7.jpeg\n",
      "./xray_dataset_covid19/train/PNEUMONIA/7E335538-2F86-424E-A0AB-6397783A38D0.jpeg\n",
      "./xray_dataset_covid19/train/PNEUMONIA/kjr-21-e24-g002-l-a.jpg\n",
      "./xray_dataset_covid19/train/PNEUMONIA/lancet-case2a.jpg\n",
      "./xray_dataset_covid19/train/PNEUMONIA/covid-19-pneumonia-14-PA.png\n",
      "./xray_dataset_covid19/train/PNEUMONIA/nejmc2001573_f1a.jpeg\n",
      "./xray_dataset_covid19/train/PNEUMONIA/all14238-fig-0002-m-e.jpg\n",
      "./xray_dataset_covid19/train/PNEUMONIA/E1724330-1866-4581-8CD8-CEC9B8AFEDDE.jpeg\n",
      "./xray_dataset_covid19/train/PNEUMONIA/CD50BA96-6982-4C80-AE7B-5F67ACDBFA56.jpeg\n",
      "./xray_dataset_covid19/train/PNEUMONIA/F4341CE7-73C9-45C6-99C8-8567A5484B63.jpeg\n",
      "./xray_dataset_covid19/train/PNEUMONIA/5CBC2E94-D358-401E-8928-965CCD965C5C.jpeg\n",
      "./xray_dataset_covid19/train/PNEUMONIA/kjr-21-e25-g001-l-a.jpg\n",
      "./xray_dataset_covid19/train/PNEUMONIA/ARDSSevere.png\n",
      "./xray_dataset_covid19/test/NORMAL/NORMAL2-IM-0092-0001.jpeg\n",
      "./xray_dataset_covid19/test/NORMAL/NORMAL2-IM-0111-0001.jpeg\n",
      "./xray_dataset_covid19/test/NORMAL/NORMAL2-IM-0132-0001.jpeg\n",
      "./xray_dataset_covid19/test/NORMAL/NORMAL2-IM-0139-0001.jpeg\n",
      "./xray_dataset_covid19/test/NORMAL/NORMAL2-IM-0123-0001.jpeg\n",
      "./xray_dataset_covid19/test/NORMAL/NORMAL2-IM-0072-0001.jpeg\n",
      "./xray_dataset_covid19/test/NORMAL/NORMAL2-IM-0117-0001.jpeg\n",
      "./xray_dataset_covid19/test/NORMAL/NORMAL2-IM-0073-0001.jpeg\n",
      "./xray_dataset_covid19/test/NORMAL/NORMAL2-IM-0171-0001.jpeg\n",
      "./xray_dataset_covid19/test/NORMAL/NORMAL2-IM-0145-0001.jpeg\n",
      "./xray_dataset_covid19/test/NORMAL/NORMAL2-IM-0105-0001.jpeg\n",
      "./xray_dataset_covid19/test/NORMAL/NORMAL2-IM-0120-0001.jpeg\n",
      "./xray_dataset_covid19/test/NORMAL/NORMAL2-IM-0052-0001.jpeg\n",
      "./xray_dataset_covid19/test/NORMAL/NORMAL2-IM-0130-0001.jpeg\n",
      "./xray_dataset_covid19/test/NORMAL/NORMAL2-IM-0058-0001.jpeg\n",
      "./xray_dataset_covid19/test/NORMAL/NORMAL2-IM-0131-0001.jpeg\n",
      "./xray_dataset_covid19/test/NORMAL/NORMAL2-IM-0110-0001.jpeg\n",
      "./xray_dataset_covid19/test/NORMAL/NORMAL2-IM-0059-0001.jpeg\n",
      "./xray_dataset_covid19/test/NORMAL/NORMAL2-IM-0112-0001.jpeg\n",
      "./xray_dataset_covid19/test/NORMAL/NORMAL2-IM-0035-0001.jpeg\n",
      "./xray_dataset_covid19/test/PNEUMONIA/ryct.2020200034.fig5-day7.jpeg\n",
      "./xray_dataset_covid19/test/PNEUMONIA/SARS-10.1148rg.242035193-g04mr34g07a-Fig7a-day5.jpeg\n",
      "./xray_dataset_covid19/test/PNEUMONIA/SARS-10.1148rg.242035193-g04mr34g0-Fig8b-day5.jpeg\n",
      "./xray_dataset_covid19/test/PNEUMONIA/SARS-10.1148rg.242035193-g04mr34g07b-Fig7b-day12.jpeg\n",
      "./xray_dataset_covid19/test/PNEUMONIA/streptococcus-pneumoniae-pneumonia-temporal-evolution-1-day0.jpg\n",
      "./xray_dataset_covid19/test/PNEUMONIA/SARS-10.1148rg.242035193-g04mr34g0-Fig8c-day10.jpeg\n",
      "./xray_dataset_covid19/test/PNEUMONIA/SARS-10.1148rg.242035193-g04mr34g09c-Fig9c-day27.jpeg\n",
      "./xray_dataset_covid19/test/PNEUMONIA/SARS-10.1148rg.242035193-g04mr34g04b-Fig4b-day12.jpeg\n",
      "./xray_dataset_covid19/test/PNEUMONIA/SARS-10.1148rg.242035193-g04mr34g04a-Fig4a-day7.jpeg\n",
      "./xray_dataset_covid19/test/PNEUMONIA/SARS-10.1148rg.242035193-g04mr34g0-Fig8a-day0.jpeg\n",
      "./xray_dataset_covid19/test/PNEUMONIA/streptococcus-pneumoniae-pneumonia-1.jpg\n",
      "./xray_dataset_covid19/test/PNEUMONIA/streptococcus-pneumoniae-pneumonia-temporal-evolution-1-day1.jpg\n",
      "./xray_dataset_covid19/test/PNEUMONIA/streptococcus-pneumoniae-pneumonia-temporal-evolution-1-day2.jpg\n",
      "./xray_dataset_covid19/test/PNEUMONIA/ryct.2020200034.fig5-day4.jpeg\n",
      "./xray_dataset_covid19/test/PNEUMONIA/ryct.2020200034.fig2.jpeg\n",
      "./xray_dataset_covid19/test/PNEUMONIA/SARS-10.1148rg.242035193-g04mr34g09b-Fig9b-day19.jpeg\n",
      "./xray_dataset_covid19/test/PNEUMONIA/SARS-10.1148rg.242035193-g04mr34g05x-Fig5-day9.jpeg\n",
      "./xray_dataset_covid19/test/PNEUMONIA/ryct.2020200034.fig5-day0.jpeg\n",
      "./xray_dataset_covid19/test/PNEUMONIA/streptococcus-pneumoniae-pneumonia-temporal-evolution-1-day3.jpg\n",
      "./xray_dataset_covid19/test/PNEUMONIA/SARS-10.1148rg.242035193-g04mr34g09a-Fig9a-day17.jpeg\n"
     ]
    }
   ],
   "source": [
    "# This Python 3 environment comes with many helpful analytics libraries installed\n",
    "# It is defined by the kaggle/python Docker image: https://github.com/kaggle/docker-python\n",
    "# For example, here's several helpful packages to load\n",
    "\n",
    "import numpy as np # linear algebra\n",
    "import pandas as pd # data processing, CSV file I/O (e.g. pd.read_csv)\n",
    "\n",
    "# Input data files are available in the read-only \"../input/\" directory\n",
    "# For example, running this (by clicking run or pressing Shift+Enter) will list all files under the input directory\n",
    "\n",
    "import os\n",
    "for dirname, _, filenames in os.walk('./xray_dataset_covid19/'):\n",
    "    for filename in filenames:\n",
    "        print(os.path.join(dirname, filename))\n",
    "\n",
    "# You can write up to 20GB to the current directory (/kaggle/working/) that gets preserved as output when you create a version using \"Save & Run All\" \n",
    "# You can also write temporary files to /kaggle/temp/, but they won't be saved outside of the current session"
   ]
  },
  {
   "cell_type": "markdown",
   "id": "42d0f387",
   "metadata": {},
   "source": [
    "The 2019 novel coronavirus (COVID-19) presents several unique features. While the diagnosis is confirmed using polymerase chain reaction (PCR), infected patients with pneumonia may present on chest X-ray and computed tomography (CT) images with a pattern that is only moderately characteristic for the human eye Ng, 2020. COVID-19’s rate of transmission depends on our capacity to reliably identify infected patients with a low rate of false negatives. In addition, a low rate of false positives is required to avoid further increasing the burden on the healthcare system by unnecessarily exposing patients to quarantine if that is not required. Along with proper infection control, it is evident that timely detection of the disease would enable the implementation of all the supportive care required by patients affected by COVID-19.\n",
    "\n",
    "In late January, a Chinese team published a paper detailing the clinical and paraclinical features of COVID-19. They reported that patients present abnormalities in chest CT images with most having bilateral involvement Huang 2020. Bilateral multiple lobular and subsegmental areas of consolidation constitute the typical findings in chest CT images of intensive care unit (ICU) patients on admission Huang 2020. In comparison, non-ICU patients show bilateral ground-glass opacity and subsegmental areas of consolidation in their chest CT images Huang 2020. In these patients, later chest CT images display bilateral ground-glass opacity with resolved consolidation Huang 2020.\n",
    "\n",
    "COVID is possibly better diagnosed using radiological imaging Fang, 2020 and Ai 2020."
   ]
  },
  {
   "cell_type": "code",
   "execution_count": 2,
   "id": "7f43fa74",
   "metadata": {},
   "outputs": [
    {
     "name": "stderr",
     "output_type": "stream",
     "text": [
      "2022-10-23 20:56:54.785485: I tensorflow/core/util/util.cc:169] oneDNN custom operations are on. You may see slightly different numerical results due to floating-point round-off errors from different computation orders. To turn them off, set the environment variable `TF_ENABLE_ONEDNN_OPTS=0`.\n",
      "2022-10-23 20:56:54.841346: W tensorflow/stream_executor/platform/default/dso_loader.cc:64] Could not load dynamic library 'libcudart.so.11.0'; dlerror: libcudart.so.11.0: cannot open shared object file: No such file or directory\n",
      "2022-10-23 20:56:54.841363: I tensorflow/stream_executor/cuda/cudart_stub.cc:29] Ignore above cudart dlerror if you do not have a GPU set up on your machine.\n"
     ]
    }
   ],
   "source": [
    "import numpy as np\n",
    "import pandas as pd\n",
    "import tensorflow as tf\n",
    "from keras.models import Sequential\n",
    "from keras.layers import Convolution2D \n",
    "from keras.layers import MaxPooling2D\n",
    "from keras.layers import Flatten\n",
    "from keras.layers import Dense\n",
    "import os\n",
    "import shutil\n",
    "from keras.preprocessing.image import ImageDataGenerator\n",
    "\n",
    "import matplotlib.pyplot as plt\n",
    "import cv2 "
   ]
  },
  {
   "cell_type": "code",
   "execution_count": 3,
   "id": "4c1df7f7",
   "metadata": {},
   "outputs": [
    {
     "data": {
      "text/plain": [
       "<matplotlib.image.AxesImage at 0x7f78bccd1a60>"
      ]
     },
     "execution_count": 3,
     "metadata": {},
     "output_type": "execute_result"
    },
    {
     "data": {
      "image/png": "[encoded data removed]",
      "text/plain": [
       "<Figure size 432x288 with 1 Axes>"
      ]
     },
     "metadata": {
      "needs_background": "light"
     },
     "output_type": "display_data"
    }
   ],
   "source": [
    "plt.imshow(cv2.imread(\"./xray_dataset_covid19/train/PNEUMONIA/01E392EE-69F9-4E33-BFCE-E5C968654078.jpeg\"))"
   ]
  },
  {
   "cell_type": "markdown",
   "id": "9c02335e",
   "metadata": {},
   "source": [
    "### Images preprocessing\n",
    "\n",
    "Rescale - rescaling factor. Defaults to None. If None or 0, no rescaling is applied, otherwise we multiply the data by the value provided (after applying all other transformations).\n",
    "\n",
    "Shear Intensity - (Shear angle in counter-clockwise direction in degrees).\n",
    "\n",
    "Range for random zoom. If a float, [lower, upper] = [1-zoom_range, 1+zoom_range].\n",
    "\n",
    "Randomly flip inputs horizontally."
   ]
  },
  {
   "cell_type": "code",
   "execution_count": 4,
   "id": "6b0e7df7",
   "metadata": {},
   "outputs": [
    {
     "name": "stdout",
     "output_type": "stream",
     "text": [
      "Found 148 images belonging to 2 classes.\n",
      "Found 40 images belonging to 2 classes.\n"
     ]
    }
   ],
   "source": [
    "train_datagen = ImageDataGenerator(\n",
    "    rescale=1./255, shear_range=0.2, zoom_range=0.2, horizontal_flip=True\n",
    ")\n",
    "\n",
    "test_datagen = ImageDataGenerator(rescale=1./255)\n",
    "\n",
    "training_set = train_datagen.flow_from_directory(\n",
    "    \"./xray_dataset_covid19/train/\",\n",
    "    target_size=(64,64),\n",
    "    batch_size=32,\n",
    "    class_mode=\"binary\"\n",
    ")\n",
    "test_set = test_datagen.flow_from_directory(\n",
    "    \"./xray_dataset_covid19/test/\",\n",
    "    target_size=(64,64),\n",
    "    batch_size=32,\n",
    "    class_mode=\"binary\"\n",
    ")"
   ]
  },
  {
   "cell_type": "markdown",
   "id": "0dbbe8a5",
   "metadata": {},
   "source": [
    "A Sequential model is appropriate for a plain stack of layers where each layer has exactly one input tensor and one output tensor."
   ]
  },
  {
   "cell_type": "code",
   "execution_count": 5,
   "id": "974bb705",
   "metadata": {},
   "outputs": [
    {
     "name": "stderr",
     "output_type": "stream",
     "text": [
      "2022-10-23 20:56:57.165446: W tensorflow/stream_executor/platform/default/dso_loader.cc:64] Could not load dynamic library 'libcuda.so.1'; dlerror: libcuda.so.1: cannot open shared object file: No such file or directory; LD_LIBRARY_PATH: /home/mono/.local/lib/python3.8/site-packages/cv2/../../lib64:\n",
      "2022-10-23 20:56:57.165463: W tensorflow/stream_executor/cuda/cuda_driver.cc:269] failed call to cuInit: UNKNOWN ERROR (303)\n",
      "2022-10-23 20:56:57.165478: I tensorflow/stream_executor/cuda/cuda_diagnostics.cc:156] kernel driver does not appear to be running on this host (mono-Prestige-14Evo-A11M): /proc/driver/nvidia/version does not exist\n",
      "2022-10-23 20:56:57.165868: I tensorflow/core/platform/cpu_feature_guard.cc:193] This TensorFlow binary is optimized with oneAPI Deep Neural Network Library (oneDNN) to use the following CPU instructions in performance-critical operations:  AVX2 AVX512F AVX512_VNNI FMA\n",
      "To enable them in other operations, rebuild TensorFlow with the appropriate compiler flags.\n"
     ]
    }
   ],
   "source": [
    "CNN = Sequential()\n",
    "\n",
    "'''\n",
    "Layers:\n",
    "\n",
    "Convolution operator for filtering windows of two-dimensional inputs.\n",
    "When using this layer as the first layer in a model, provide the keyword argument input_shape \n",
    "(tuple of integers, does not include the sample axis), e.g. input_shape=(64, 64, 3) \n",
    "for 64x64 RGB pictures.\n",
    "'''\n",
    "CNN.add(Convolution2D(32,(3,3),activation=\"relu\",input_shape=(64,64,3)))\n",
    "\n",
    "'''\n",
    "Max pooling operation for 2D spatial data.\n",
    "\n",
    "Downsamples the input along its spatial dimensions (height and width) by taking the maximum \n",
    "value over an input window (of size defined by pool_size) for each channel of the input. \n",
    "The window is shifted by strides along each dimension.\n",
    "\n",
    "The resulting output, when using the \"valid\" padding option, has a spatial shape \n",
    "(number of rows or columns) of: output_shape = math.floor((input_shape - pool_size) / strides) + 1 \n",
    "(when input_shape >= pool_size)\n",
    "\n",
    "The resulting output shape when using the \"same\" padding option is: \n",
    "output_shape = math.floor((input_shape - 1) / strides) + 1\n",
    "'''\n",
    "CNN.add(MaxPooling2D(pool_size=(2,2)))\n",
    "\n",
    "CNN.add(Convolution2D(32,(3,3),activation=\"relu\"))\n",
    "\n",
    "CNN.add(MaxPooling2D(pool_size=(2,2)))\n",
    "\n",
    "CNN.add(Convolution2D(32,(3,3),activation=\"relu\"))\n",
    "\n",
    "CNN.add(MaxPooling2D(pool_size=(2,2)))\n",
    "\n",
    "'''\n",
    "Flattens the input. Does not affect the batch size.\n",
    "\n",
    "Note: If inputs are shaped (batch,) without a feature axis, then flattening adds an extra channel \n",
    "dimension and output shape is (batch, 1).\n",
    "'''\n",
    "CNN.add(Flatten())\n",
    "'''\n",
    "Just your regular densely-connected NN layer.\n",
    "\n",
    "Dense implements the operation: output = activation(dot(input, kernel) + bias) where activation is the \n",
    "element-wise activation function passed as the activation argument, kernel is a weights matrix created \n",
    "by the layer, and bias is a bias vector created by the layer (only applicable if use_bias is True). \n",
    "These are all attributes of Dense.\n",
    "'''\n",
    "CNN.add(Dense(units=128,activation =\"relu\"))\n",
    "\n",
    "CNN.add(Dense(units=1,activation=\"sigmoid\"))\n",
    "\n",
    "CNN.compile(optimizer=\"adam\",loss=\"binary_crossentropy\",metrics=[\"accuracy\"])"
   ]
  },
  {
   "cell_type": "code",
   "execution_count": 6,
   "id": "839d571f",
   "metadata": {},
   "outputs": [
    {
     "name": "stdout",
     "output_type": "stream",
     "text": [
      "Epoch 1/10\n",
      "5/5 [==============================] - ETA: 0s - loss: 0.6702 - accuracy: 0.5946WARNING:tensorflow:Your input ran out of data; interrupting training. Make sure that your dataset or generator can generate at least `steps_per_epoch * epochs` batches (in this case, 800 batches). You may need to use the repeat() function when building your dataset.\n",
      "5/5 [==============================] - 3s 596ms/step - loss: 0.6702 - accuracy: 0.5946 - val_loss: 0.6040 - val_accuracy: 0.6750\n",
      "Epoch 2/10\n",
      "5/5 [==============================] - 2s 338ms/step - loss: 0.6371 - accuracy: 0.6081\n",
      "Epoch 3/10\n",
      "5/5 [==============================] - 2s 354ms/step - loss: 0.5917 - accuracy: 0.6757\n",
      "Epoch 4/10\n",
      "5/5 [==============================] - 2s 399ms/step - loss: 0.5932 - accuracy: 0.6486\n",
      "Epoch 5/10\n",
      "5/5 [==============================] - 2s 395ms/step - loss: 0.5533 - accuracy: 0.6554\n",
      "Epoch 6/10\n",
      "5/5 [==============================] - 2s 369ms/step - loss: 0.4678 - accuracy: 0.8176\n",
      "Epoch 7/10\n",
      "5/5 [==============================] - 2s 362ms/step - loss: 0.3591 - accuracy: 0.9054\n",
      "Epoch 8/10\n",
      "5/5 [==============================] - 2s 358ms/step - loss: 0.3485 - accuracy: 0.8514\n",
      "Epoch 9/10\n",
      "5/5 [==============================] - 2s 356ms/step - loss: 0.3049 - accuracy: 0.8716\n",
      "Epoch 10/10\n",
      "5/5 [==============================] - 2s 344ms/step - loss: 0.2681 - accuracy: 0.8784\n"
     ]
    },
    {
     "data": {
      "text/plain": [
       "<keras.callbacks.History at 0x7f78b8279df0>"
      ]
     },
     "execution_count": 6,
     "metadata": {},
     "output_type": "execute_result"
    }
   ],
   "source": [
    "CNN.fit(\n",
    "    training_set,\n",
    "#     steps_per_epoch=2000,\n",
    "#     epochs=100,\n",
    "    epochs=10,\n",
    "    validation_data=test_set,\n",
    "    validation_steps=800,\n",
    ")"
   ]
  },
  {
   "cell_type": "code",
   "execution_count": 7,
   "id": "1374abce",
   "metadata": {},
   "outputs": [
    {
     "name": "stdout",
     "output_type": "stream",
     "text": [
      "2/2 [==============================] - 0s 78ms/step - loss: 0.1353 - accuracy: 0.9500\n"
     ]
    },
    {
     "data": {
      "text/plain": [
       "[0.13528071343898773, 0.949999988079071]"
      ]
     },
     "execution_count": 7,
     "metadata": {},
     "output_type": "execute_result"
    }
   ],
   "source": [
    "CNN.evaluate(test_set)"
   ]
  },
  {
   "cell_type": "code",
   "execution_count": null,
   "id": "78675472",
   "metadata": {},
   "outputs": [],
   "source": [
    "# Save model \n",
    "# CNN.save_weights('cif_weights.h5')\n",
    "# CNN.save('cif_model.h5')"
   ]
  },
  {
   "cell_type": "code",
   "execution_count": 18,
   "id": "305a2034",
   "metadata": {},
   "outputs": [
    {
     "name": "stdout",
     "output_type": "stream",
     "text": [
      "1/1 [==============================] - 0s 11ms/step\n",
      "[[0.01665436]]\n"
     ]
    }
   ],
   "source": [
    "from PIL import Image\n",
    "from skimage import transform\n",
    "def load(filename):\n",
    "   np_image = Image.open(filename)\n",
    "   np_image = np.array(np_image).astype('float32')/255\n",
    "   np_image = transform.resize(np_image, (64, 64, 3))\n",
    "   np_image = np.expand_dims(np_image, axis=0)\n",
    "   return np_image\n",
    "\n",
    "# image = load('./xray_dataset_covid19/test/PNEUMONIA/ryct.2020200034.fig5-day7.jpeg')\n",
    "image = load('./xray_dataset_covid19/test/NORMAL/NORMAL2-IM-0092-0001.jpeg')\n",
    "\n",
    "predictions=CNN.predict(image)\n",
    "print(predictions)"
   ]
  },
  {
   "cell_type": "code",
   "execution_count": null,
   "id": "3577e8e2",
   "metadata": {},
   "outputs": [],
   "source": []
  }
 ],
 "metadata": {
  "kernelspec": {
   "display_name": "Python 3 (ipykernel)",
   "language": "python",
   "name": "python3"
  },
  "language_info": {
   "codemirror_mode": {
    "name": "ipython",
    "version": 3
   },
   "file_extension": ".py",
   "mimetype": "text/x-python",
   "name": "python",
   "nbconvert_exporter": "python",
   "pygments_lexer": "ipython3",
   "version": "3.8.10"
  }
 },
 "nbformat": 4,
 "nbformat_minor": 5
}
