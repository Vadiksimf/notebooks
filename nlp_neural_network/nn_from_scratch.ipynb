{
 "cells": [
  {
   "cell_type": "code",
   "execution_count": 1,
   "id": "a0cb1fce",
   "metadata": {},
   "outputs": [],
   "source": [
    "import numpy as np\n",
    "import matplotlib.pyplot as plt\n",
    "import scipy.special\n",
    "\n",
    "# Display all graphics in hte notebook\n",
    "%matplotlib inline"
   ]
  },
  {
   "cell_type": "code",
   "execution_count": 2,
   "id": "0ee6b180",
   "metadata": {},
   "outputs": [],
   "source": [
    "# NN Testing\n",
    "# data_file = open('mnist/mnist_train_100.csv', 'r')\n",
    "data_file = open('mnist/mnist_train.csv', 'r')\n",
    "data_list = data_file.readlines()\n",
    "data_file.close()"
   ]
  },
  {
   "cell_type": "code",
   "execution_count": 3,
   "id": "5f38f2dd",
   "metadata": {},
   "outputs": [
    {
     "name": "stdout",
     "output_type": "stream",
     "text": [
      "5,0,0,0,0,0,0,0,0,0,0,0,0,0,0,0,0,0,0,0,0,0,0,0,0,0,0,0,0,0,0,0,0,0,0,0,0,0,0,0,0,0,0,0,0,0,0,0,0,0,0,0,0,0,0,0,0,0,0,0,0,0,0,0,0,0,0,0,0,0,0,0,0,0,0,0,0,0,0,0,0,0,0,0,0,0,0,0,0,0,0,0,0,0,0,0,0,0,0,0,0,0,0,0,0,0,0,0,0,0,0,0,0,0,0,0,0,0,0,0,0,0,0,0,0,0,0,0,0,0,0,0,0,0,0,0,0,0,0,0,0,0,0,0,0,0,0,0,0,0,0,0,0,3,18,18,18,126,136,175,26,166,255,247,127,0,0,0,0,0,0,0,0,0,0,0,0,30,36,94,154,170,253,253,253,253,253,225,172,253,242,195,64,0,0,0,0,0,0,0,0,0,0,0,49,238,253,253,253,253,253,253,253,253,251,93,82,82,56,39,0,0,0,0,0,0,0,0,0,0,0,0,18,219,253,253,253,253,253,198,182,247,241,0,0,0,0,0,0,0,0,0,0,0,0,0,0,0,0,0,0,80,156,107,253,253,205,11,0,43,154,0,0,0,0,0,0,0,0,0,0,0,0,0,0,0,0,0,0,0,14,1,154,253,90,0,0,0,0,0,0,0,0,0,0,0,0,0,0,0,0,0,0,0,0,0,0,0,0,0,139,253,190,2,0,0,0,0,0,0,0,0,0,0,0,0,0,0,0,0,0,0,0,0,0,0,0,0,11,190,253,70,0,0,0,0,0,0,0,0,0,0,0,0,0,0,0,0,0,0,0,0,0,0,0,0,0,35,241,225,160,108,1,0,0,0,0,0,0,0,0,0,0,0,0,0,0,0,0,0,0,0,0,0,0,0,81,240,253,253,119,25,0,0,0,0,0,0,0,0,0,0,0,0,0,0,0,0,0,0,0,0,0,0,0,45,186,253,253,150,27,0,0,0,0,0,0,0,0,0,0,0,0,0,0,0,0,0,0,0,0,0,0,0,16,93,252,253,187,0,0,0,0,0,0,0,0,0,0,0,0,0,0,0,0,0,0,0,0,0,0,0,0,0,249,253,249,64,0,0,0,0,0,0,0,0,0,0,0,0,0,0,0,0,0,0,0,0,0,46,130,183,253,253,207,2,0,0,0,0,0,0,0,0,0,0,0,0,0,0,0,0,0,0,0,39,148,229,253,253,253,250,182,0,0,0,0,0,0,0,0,0,0,0,0,0,0,0,0,0,0,24,114,221,253,253,253,253,201,78,0,0,0,0,0,0,0,0,0,0,0,0,0,0,0,0,0,23,66,213,253,253,253,253,198,81,2,0,0,0,0,0,0,0,0,0,0,0,0,0,0,0,0,18,171,219,253,253,253,253,195,80,9,0,0,0,0,0,0,0,0,0,0,0,0,0,0,0,0,55,172,226,253,253,253,253,244,133,11,0,0,0,0,0,0,0,0,0,0,0,0,0,0,0,0,0,0,136,253,253,253,212,135,132,16,0,0,0,0,0,0,0,0,0,0,0,0,0,0,0,0,0,0,0,0,0,0,0,0,0,0,0,0,0,0,0,0,0,0,0,0,0,0,0,0,0,0,0,0,0,0,0,0,0,0,0,0,0,0,0,0,0,0,0,0,0,0,0,0,0,0,0,0,0,0,0,0,0,0,0,0,0,0,0,0,0,0,0,0,0,0,0,0,0,0,0,0,0,0,0,0,0,0,0,0\n",
      "\n"
     ]
    }
   ],
   "source": [
    "# Presentstion of pictunre in pixels\n",
    "print(data_list[0])"
   ]
  },
  {
   "cell_type": "code",
   "execution_count": 4,
   "id": "b3fe3039",
   "metadata": {},
   "outputs": [
    {
     "data": {
      "text/plain": [
       "<matplotlib.image.AxesImage at 0x7f24418ef0d0>"
      ]
     },
     "execution_count": 4,
     "metadata": {},
     "output_type": "execute_result"
    },
    {
     "data": {
      "image/png": "[encoded data removed]",
      "text/plain": [
       "<Figure size 432x288 with 1 Axes>"
      ]
     },
     "metadata": {
      "needs_background": "light"
     },
     "output_type": "display_data"
    }
   ],
   "source": [
    "all_values = data_list[0].split(',')\n",
    "image_array = np.asfarray(all_values[1:]).reshape((28,28))\n",
    "plt.imshow(image_array, cmap='Greys', interpolation='None')"
   ]
  },
  {
   "cell_type": "code",
   "execution_count": 5,
   "id": "9b31498c",
   "metadata": {
    "scrolled": true
   },
   "outputs": [
    {
     "name": "stdout",
     "output_type": "stream",
     "text": [
      "[0.01 0.01 0.01 0.01 0.01 0.01 0.01 0.01 0.01]\n"
     ]
    }
   ],
   "source": [
    "# Prepare pixels to range between 0.01 and 1.0\n",
    "scaled_input = (np.asfarray(all_values[1:]) / 255.0 * 0.99) + 0.01\n",
    "# Print first 10 elements\n",
    "print(scaled_input[:9])"
   ]
  },
  {
   "cell_type": "code",
   "execution_count": 6,
   "id": "712787c0",
   "metadata": {},
   "outputs": [],
   "source": [
    "class NeuralNetwork:\n",
    "    \n",
    "    # NN initialization\n",
    "    def __init__(self, input_nodes, hidden_nodes, output_nodes, learning_rate):\n",
    "        self.input_nodes = input_nodes\n",
    "        self.hidden_nodes = hidden_nodes\n",
    "        self.output_nodes = output_nodes\n",
    "        \n",
    "        self.learning_rate = learning_rate\n",
    "        \n",
    "        # Initialization of matrices\n",
    "        # wih - Matrix of input and hidden layers\n",
    "        # wih - Matrix of hidden and output layers\n",
    "        # w_i_j - connection between input layer - i and hidden layer - j\n",
    "        # self.wih = np.random.rand(hidden_nodes, input_nodes) - 0.5 # [-0.5; +0.5]\n",
    "        # self.who = np.random.rand(output_nodes, hidden_nodes) - 0.5 # [-0.5; +0.5]\n",
    "        \n",
    "        # Other way to initialize matrices\n",
    "        # 0.0 - center of normal distribution\n",
    "        self.wih = np.random.normal(0.0, pow(hidden_nodes, -0.5), (self.hidden_nodes, self.input_nodes))\n",
    "        self.who = np.random.normal(0.0, pow(output_nodes, -0.5), (self.output_nodes, self.hidden_nodes))\n",
    "        \n",
    "        # Activation function - sigmoid\n",
    "        self.activation_function = lambda x: scipy.special.expit(x)\n",
    "        \n",
    "        pass\n",
    "    \n",
    "    # Training of neural network\n",
    "    def train(self, inputs_list, targets_list):\n",
    "        # Calculate input signals\n",
    "        \n",
    "        # Create 2d array from inputs\n",
    "        inputs = np.array(inputs_list, ndmin=2).T\n",
    "        targets = np.array(targets_list, ndmin=2).T\n",
    "        \n",
    "        # Calculate input signals for the hidden layer\n",
    "        hidden_inputs = np.matmul(self.wih, inputs)\n",
    "        \n",
    "        # Calculate output signals for hidden layer\n",
    "        hidden_outputs = self.activation_function(hidden_inputs)\n",
    "        \n",
    "        # Calculate input signals for output layer\n",
    "        final_inputs = np.matmul(self.who, hidden_outputs)\n",
    "        \n",
    "        # Calculate output signals for output layer\n",
    "        final_outputs = self.activation_function(final_inputs)\n",
    "        \n",
    "        #         print(inputs, targets)\n",
    "        #         print(hidden_inputs, '\\n', hidden_outputs, '\\n', final_inputs, '\\n', final_outputs, '\\n')\n",
    "        \n",
    "        # Calculate ERRORS\n",
    "        output_errors = targets - final_outputs\n",
    "        \n",
    "        # Calculate backpropagation\n",
    "        hidden_errors = np.matmul(self.who.T, output_errors)\n",
    "        \n",
    "        # Update linked coefficients between hidden and ouput layer\n",
    "        self.who += self.learning_rate * np.matmul((output_errors * final_outputs * \n",
    "                                            (1.0 - final_outputs)), np.transpose(hidden_outputs))\n",
    "        # Update linked coefficients between input and hidden layer\n",
    "        self.wih += self.learning_rate * np.matmul((hidden_errors * hidden_outputs * \n",
    "                                    (1.0 - hidden_outputs)), np.transpose(inputs))\n",
    "        \n",
    "        pass\n",
    "    \n",
    "    # Quering NN\n",
    "    def query(self, inputs_list):\n",
    "        # List of input values into 2d array\n",
    "        inputs = np.array(inputs_list, ndmin=2).T\n",
    "        \n",
    "        # Calculate input signals for hidden layer\n",
    "        # Multiplying of matrices X(hidden) = W(input_hidden) * I\n",
    "        hidden_inputs = np.matmul(self.wih, inputs)\n",
    "              \n",
    "        # Calculate output signals for hidden layer\n",
    "        hidden_outputs = self.activation_function(hidden_inputs)\n",
    "        \n",
    "        # Calculate input signals for output layer\n",
    "        final_inputs = np.matmul(self.who, hidden_outputs)\n",
    "        \n",
    "        # Calculate output signals for output layer\n",
    "        final_outputs = self.activation_function(final_inputs)\n",
    "        \n",
    "        #         print(inputs)\n",
    "        #         print(hidden_inputs, '\\n', hidden_outputs, '\\n', final_inputs, '\\n', final_outputs, '\\n')\n",
    "    \n",
    "        return final_outputs\n",
    "    \n",
    "    # print matrices\n",
    "    def print_matrices(self):\n",
    "        print('-' * 20, 'input--hidden', '\\n', self.wih)\n",
    "        print('-' * 20, 'hidden--output', '\\n', self.who)\n",
    "        pass"
   ]
  },
  {
   "cell_type": "code",
   "execution_count": 7,
   "id": "ba1e28cb",
   "metadata": {},
   "outputs": [],
   "source": [
    "# Data preparing\n",
    "data_file = open('mnist/mnist_train.csv', 'r') # r - readonly\n",
    "data_list = data_file.readlines()\n",
    "data_file.close()"
   ]
  },
  {
   "cell_type": "code",
   "execution_count": 8,
   "id": "072fd478",
   "metadata": {},
   "outputs": [],
   "source": [
    "input_nodes = 784  # 28x28 pixels\n",
    "hidden_nodes = 100 # random value\n",
    "output_nodes = 10  # range 0-9\n",
    "learning_rate = 0.3\n",
    "\n",
    "targets = np.zeros(output_nodes) + 0.01\n",
    "targets[int(all_values[0])] = 0.99\n",
    "\n",
    "nn = NeuralNetwork(input_nodes, hidden_nodes, output_nodes, learning_rate)"
   ]
  },
  {
   "cell_type": "code",
   "execution_count": 9,
   "id": "14ebf4b6",
   "metadata": {},
   "outputs": [],
   "source": [
    "# nn.print_matrices()"
   ]
  },
  {
   "cell_type": "code",
   "execution_count": 10,
   "id": "81c01cba",
   "metadata": {},
   "outputs": [],
   "source": [
    "score_card = []"
   ]
  },
  {
   "cell_type": "code",
   "execution_count": 11,
   "id": "3cdbe204",
   "metadata": {},
   "outputs": [],
   "source": [
    "epoch = 5\n",
    "\n",
    "for e in range(epoch):\n",
    "    for record in data_list:\n",
    "        all_values = record.split(',')\n",
    "\n",
    "        # Scale and shift data\n",
    "        inputs = (np.asfarray(all_values[1:]) / 255.0 * 0.99) + 0.01\n",
    "        # create all values - 0.01\n",
    "        # target - 0.99    targests = numpy.zeros(output_nodes) + 0.01\n",
    "        targets = np.zeros(output_nodes) + 0.01\n",
    "\n",
    "        # All values[0] - target value\n",
    "        targets[int(all_values[0])] = 0.99\n",
    "        nn.train(inputs, targets)\n",
    "\n",
    "        pass\n",
    "    pass"
   ]
  },
  {
   "cell_type": "code",
   "execution_count": 12,
   "id": "8a4ceeec",
   "metadata": {},
   "outputs": [],
   "source": [
    "# Test\n",
    "\n",
    "# test_data_file = open('mnist/mnist_test_10.csv', 'r')\n",
    "test_data_file = open('mnist/mnist_test.csv', 'r')\n",
    "test_data_list = test_data_file.readlines()\n",
    "test_data_file.close()"
   ]
  },
  {
   "cell_type": "code",
   "execution_count": 13,
   "id": "88a00a48",
   "metadata": {},
   "outputs": [
    {
     "name": "stdout",
     "output_type": "stream",
     "text": [
      "7\n"
     ]
    }
   ],
   "source": [
    "all_values = test_data_list[0].split(',')\n",
    "print(all_values[0])"
   ]
  },
  {
   "cell_type": "code",
   "execution_count": 14,
   "id": "e1329cfd",
   "metadata": {},
   "outputs": [
    {
     "data": {
      "text/plain": [
       "<matplotlib.image.AxesImage at 0x7f243f7fb940>"
      ]
     },
     "execution_count": 14,
     "metadata": {},
     "output_type": "execute_result"
    },
    {
     "data": {
      "image/png": "[encoded data removed]",
      "text/plain": [
       "<Figure size 432x288 with 1 Axes>"
      ]
     },
     "metadata": {
      "needs_background": "light"
     },
     "output_type": "display_data"
    }
   ],
   "source": [
    "image_array = np.asfarray(all_values[1:]).reshape(28,28)\n",
    "plt.imshow(image_array, cmap='Greys')"
   ]
  },
  {
   "cell_type": "code",
   "execution_count": 15,
   "id": "56e6ed3b",
   "metadata": {},
   "outputs": [
    {
     "data": {
      "text/plain": [
       "array([[4.77266334e-04],\n",
       "       [1.94764756e-03],\n",
       "       [4.73438345e-03],\n",
       "       [8.90486373e-04],\n",
       "       [1.95330660e-03],\n",
       "       [6.32424732e-04],\n",
       "       [2.00947211e-03],\n",
       "       [9.99205423e-01],\n",
       "       [2.03046864e-02],\n",
       "       [2.59703860e-04]])"
      ]
     },
     "execution_count": 15,
     "metadata": {},
     "output_type": "execute_result"
    }
   ],
   "source": [
    "# Show index of value index 7 equal to 7\n",
    "nn.query((np.asfarray(all_values[1:]) / 255.0 * 0.99) + 0.01)"
   ]
  },
  {
   "cell_type": "code",
   "execution_count": 16,
   "id": "77383883",
   "metadata": {},
   "outputs": [],
   "source": [
    "score_card = []"
   ]
  },
  {
   "cell_type": "code",
   "execution_count": 17,
   "id": "00308468",
   "metadata": {},
   "outputs": [],
   "source": [
    "for record in test_data_list:\n",
    "    all_values = record.split(',')\n",
    "    \n",
    "    correct_label = int(all_values[0])\n",
    "#     print('Correct label', correct_label)\n",
    "    \n",
    "    # Scale and shift data\n",
    "    inputs = (np.asfarray(all_values[1:]) / 255.0 * 0.99) + 0.01\n",
    "    \n",
    "    # create all values - 0.01\n",
    "    # target - 0.99    targests = numpy.zeros(output_nodes) + 0.01\n",
    "    outputs = nn.query(inputs)\n",
    "    \n",
    "    label = np.argmax(outputs)\n",
    "#     print('NN response', label)\n",
    "\n",
    "    targets = np.zeros(output_nodes) + 0.01\n",
    "    \n",
    "    targets[int(all_values[0])] = 0.99\n",
    "    nn.train(inputs, targets)\n",
    "    \n",
    "    if (label == correct_label):\n",
    "        score_card.append(1)\n",
    "    else:\n",
    "        score_card.append(0)\n",
    "        pass\n",
    "    \n",
    "    pass"
   ]
  },
  {
   "cell_type": "code",
   "execution_count": 18,
   "id": "8297c3e8",
   "metadata": {},
   "outputs": [
    {
     "name": "stdout",
     "output_type": "stream",
     "text": [
      "Accuracy  0.9552\n"
     ]
    }
   ],
   "source": [
    "score_card_array = np.asarray(score_card)\n",
    "print('Accuracy ', score_card_array.sum() / score_card_array.size)"
   ]
  }
 ],
 "metadata": {
  "kernelspec": {
   "display_name": "Python 3 (ipykernel)",
   "language": "python",
   "name": "python3"
  },
  "language_info": {
   "codemirror_mode": {
    "name": "ipython",
    "version": 3
   },
   "file_extension": ".py",
   "mimetype": "text/x-python",
   "name": "python",
   "nbconvert_exporter": "python",
   "pygments_lexer": "ipython3",
   "version": "3.8.10"
  }
 },
 "nbformat": 4,
 "nbformat_minor": 5
}
